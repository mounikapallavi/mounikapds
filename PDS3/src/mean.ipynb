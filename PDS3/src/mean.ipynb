{
 "cells": [
  {
   "cell_type": "code",
   "execution_count": 1,
   "id": "bee1f99e",
   "metadata": {},
   "outputs": [],
   "source": [
    "import numpy as np\n",
    "import pandas as pd\n",
    "import matplotlib.pyplot as plt\n",
    "import seaborn as sns"
   ]
  },
  {
   "cell_type": "code",
   "execution_count": 2,
   "id": "1d96e8a4",
   "metadata": {},
   "outputs": [],
   "source": [
    "df_diabetes = pd.read_csv('/Users/vineelakolagani/Desktop/PDS3/data_raw/diabetes.csv')"
   ]
  },
  {
   "cell_type": "code",
   "execution_count": 3,
   "id": "25adc4bb",
   "metadata": {},
   "outputs": [],
   "source": [
    "np.random.seed(721)"
   ]
  },
  {
   "cell_type": "code",
   "execution_count": 4,
   "id": "ae3a9e91",
   "metadata": {},
   "outputs": [],
   "source": [
    "sample25 = df_diabetes.sample(n=25, replace=False)"
   ]
  },
  {
   "cell_type": "code",
   "execution_count": 5,
   "id": "44dd7375",
   "metadata": {},
   "outputs": [
    {
     "name": "stdout",
     "output_type": "stream",
     "text": [
      "<class 'pandas.core.frame.DataFrame'>\n",
      "Int64Index: 25 entries, 16 to 600\n",
      "Data columns (total 9 columns):\n",
      " #   Column                    Non-Null Count  Dtype  \n",
      "---  ------                    --------------  -----  \n",
      " 0   Pregnancies               25 non-null     int64  \n",
      " 1   Glucose                   25 non-null     int64  \n",
      " 2   BloodPressure             25 non-null     int64  \n",
      " 3   SkinThickness             25 non-null     int64  \n",
      " 4   Insulin                   25 non-null     int64  \n",
      " 5   BMI                       25 non-null     float64\n",
      " 6   DiabetesPedigreeFunction  25 non-null     float64\n",
      " 7   Age                       25 non-null     int64  \n",
      " 8   Outcome                   25 non-null     int64  \n",
      "dtypes: float64(2), int64(7)\n",
      "memory usage: 2.0 KB\n",
      "None\n"
     ]
    }
   ],
   "source": [
    "print(sample25.info())"
   ]
  },
  {
   "cell_type": "code",
   "execution_count": 6,
   "id": "5e1bca0a",
   "metadata": {},
   "outputs": [
    {
     "name": "stdout",
     "output_type": "stream",
     "text": [
      "       Pregnancies     Glucose  BloodPressure  SkinThickness     Insulin  \\\n",
      "count     25.00000   25.000000      25.000000      25.000000   25.000000   \n",
      "mean       4.12000  123.440000      72.960000      18.320000   74.960000   \n",
      "std        3.70045   32.783482      18.753844      15.633085  106.634688   \n",
      "min        0.00000   68.000000       0.000000       0.000000    0.000000   \n",
      "25%        1.00000  100.000000      68.000000       0.000000    0.000000   \n",
      "50%        3.00000  116.000000      76.000000      19.000000    0.000000   \n",
      "75%        6.00000  147.000000      80.000000      27.000000  100.000000   \n",
      "max       14.00000  194.000000     106.000000      56.000000  392.000000   \n",
      "\n",
      "             BMI  DiabetesPedigreeFunction        Age    Outcome  \n",
      "count  25.000000                 25.000000  25.000000  25.000000  \n",
      "mean   30.412000                  0.451520  32.920000   0.280000  \n",
      "std     9.802267                  0.256782  11.821308   0.458258  \n",
      "min     0.000000                  0.084000  21.000000   0.000000  \n",
      "25%    26.100000                  0.257000  25.000000   0.000000  \n",
      "50%    29.300000                  0.411000  31.000000   0.000000  \n",
      "75%    35.900000                  0.551000  36.000000   1.000000  \n",
      "max    53.200000                  1.138000  67.000000   1.000000  \n"
     ]
    }
   ],
   "source": [
    "# Display summary statistics of the sample data\n",
    "print(sample25.describe())"
   ]
  },
  {
   "cell_type": "code",
   "execution_count": 7,
   "id": "1e2c9dbd",
   "metadata": {},
   "outputs": [],
   "source": [
    "# Calculate mean and max for both population and sample\n",
    "population_mean_glucose = df_diabetes['Glucose'].mean()\n",
    "population_max_glucose = df_diabetes['Glucose'].max()\n",
    "sample25_mean_glucose = sample25['Glucose'].mean()\n",
    "sample25_max_glucose = sample25['Glucose'].max()"
   ]
  },
  {
   "cell_type": "code",
   "execution_count": 8,
   "id": "4c017a49",
   "metadata": {},
   "outputs": [
    {
     "name": "stdout",
     "output_type": "stream",
     "text": [
      "Population mean glucose: 120.89\n",
      "Population max glucose: 199.00\n",
      "Sample mean glucose: 123.44\n",
      "Sample max glucose: 194.00\n"
     ]
    }
   ],
   "source": [
    "# Print the values\n",
    "print(f\"Population mean glucose: {population_mean_glucose:.2f}\")\n",
    "print(f\"Population max glucose: {population_max_glucose:.2f}\")\n",
    "print(f\"Sample mean glucose: {sample25_mean_glucose:.2f}\")\n",
    "print(f\"Sample max glucose: {sample25_max_glucose:.2f}\")"
   ]
  },
  {
   "cell_type": "code",
   "execution_count": 9,
   "id": "f0e288ec",
   "metadata": {},
   "outputs": [],
   "source": [
    "# Create a data frame for population and sample statistics\n",
    "stats_data = pd.DataFrame({\n",
    "    'Category': [\"Population Mean\", \"Population Highest\", \"Sample Mean\", \"Sample Highest\"],\n",
    "    'Glucose': [population_mean_glucose, population_max_glucose, sample25_mean_glucose, sample25_max_glucose],\n",
    "    'Group': [\"Population\", \"Population\", \"Sample\", \"Sample\"]\n",
    "})"
   ]
  },
  {
   "cell_type": "code",
   "execution_count": 10,
   "id": "4b1726cf",
   "metadata": {},
   "outputs": [
    {
     "data": {
      "image/png": "[encoded data removed]",
      "text/plain": [
       "<Figure size 800x600 with 1 Axes>"
      ]
     },
     "metadata": {},
     "output_type": "display_data"
    }
   ],
   "source": [
    "# Create a bar chart to compare statistics with numbers on top of bars\n",
    "plt.figure(figsize=(8, 6))\n",
    "bar_plot = sns.barplot(data=stats_data, x='Category', y='Glucose', hue='Category', palette='pastel')\n",
    "for index, value in enumerate(stats_data['Glucose']):\n",
    "    bar_plot.text(index, value, round(value, 2), ha='center', va='bottom', color='black', size=10)\n",
    "plt.title(\"Comparison of Glucose Statistics: Population vs Sample(25)\")\n",
    "plt.ylabel(\"Glucose Value\")\n",
    "plt.legend().remove()\n",
    "plt.show()\n"
   ]
  },
  {
   "cell_type": "code",
   "execution_count": null,
   "id": "7997f2b2",
   "metadata": {},
   "outputs": [],
   "source": []
  }
 ],
 "metadata": {
  "kernelspec": {
   "display_name": "Python 3 (ipykernel)",
   "language": "python",
   "name": "python3"
  },
  "language_info": {
   "codemirror_mode": {
    "name": "ipython",
    "version": 3
   },
   "file_extension": ".py",
   "mimetype": "text/x-python",
   "name": "python",
   "nbconvert_exporter": "python",
   "pygments_lexer": "ipython3",
   "version": "3.10.9"
  }
 },
 "nbformat": 4,
 "nbformat_minor": 5
}
