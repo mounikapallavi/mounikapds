{
 "cells": [
  {
   "cell_type": "code",
   "execution_count": 1,
   "id": "67f41cc8",
   "metadata": {},
   "outputs": [],
   "source": [
    "import pandas as pd"
   ]
  },
  {
   "cell_type": "code",
   "execution_count": 5,
   "id": "7be072d8",
   "metadata": {},
   "outputs": [
    {
     "name": "stdout",
     "output_type": "stream",
     "text": [
      "   Unnamed: 0.1  Unnamed: 0 Height Weight  Age Grip Strength Frailty\n",
      "0             0           0  65.8    112   30            30       N \n",
      "1             1           1  71.5    136   19            31       N \n",
      "2             2           2  69.4    153   45            29       N \n",
      "3             3           3  68.2    142   22            28       Y \n",
      "4             4           4  67.8    144   29            24       Y \n",
      "5             5           5  68.7    123   50            26       N \n",
      "6             6           6  69.8    141   51            22       Y \n",
      "7             7           7  70.1    136   23            20       Y \n",
      "8             8           8  67.9    112   17            19       N \n",
      "9             9           9  66.8    120   39            31       N \n"
     ]
    }
   ],
   "source": [
    "# importing clean data for analysis\n",
    "data_frame = pd.read_csv('../data_raw/Frailty.csv')\n",
    "print(data_frame.to_string())"
   ]
  },
  {
   "cell_type": "code",
   "execution_count": 3,
   "id": "f2eb144b",
   "metadata": {},
   "outputs": [
    {
     "data": {
      "text/plain": [
       "Unnamed: 0.1     0\n",
       "Unnamed: 0       0\n",
       "Height           0\n",
       "Weight           0\n",
       "Age              0\n",
       "Grip Strength    0\n",
       "Frailty          0\n",
       "dtype: int64"
      ]
     },
     "execution_count": 3,
     "metadata": {},
     "output_type": "execute_result"
    }
   ],
   "source": [
    "# checks for null values\n",
    "data_frame.isnull().sum()"
   ]
  },
  {
   "cell_type": "code",
   "execution_count": 4,
   "id": "a06b064a",
   "metadata": {},
   "outputs": [],
   "source": [
    "# store the cleaned data to data_raw folder\n",
    "data_frame.to_csv('../data_clean/Frailty.csv')\n"
   ]
  },
  {
   "cell_type": "code",
   "execution_count": null,
   "id": "775cc84c",
   "metadata": {},
   "outputs": [],
   "source": []
  }
 ],
 "metadata": {
  "kernelspec": {
   "display_name": "Python 3 (ipykernel)",
   "language": "python",
   "name": "python3"
  },
  "language_info": {
   "codemirror_mode": {
    "name": "ipython",
    "version": 3
   },
   "file_extension": ".py",
   "mimetype": "text/x-python",
   "name": "python",
   "nbconvert_exporter": "python",
   "pygments_lexer": "ipython3",
   "version": "3.10.9"
  }
 },
 "nbformat": 4,
 "nbformat_minor": 5
}
